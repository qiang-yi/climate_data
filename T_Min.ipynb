{
 "cells": [
  {
   "cell_type": "markdown",
   "metadata": {},
   "source": [
    "# Aggregating Daily Minimum Temperature"
   ]
  },
  {
   "cell_type": "markdown",
   "metadata": {},
   "source": [
    "Import data and packages"
   ]
  },
  {
   "cell_type": "code",
   "execution_count": null,
   "metadata": {},
   "outputs": [],
   "source": [
    "import rasterio as rio\n",
    "import datetime\n",
    "import numpy as np\n",
    "\n",
    "\n",
    "path=\"D:/climate_data/Tmin_All_Islands/\"\n",
    "\n",
    "pathout=\"D:/climate_data/Tmin_All_Islands_out/\"\n",
    "\n",
    "\n",
    "baselayer=rio.open(path+\"Tmin_All_Islands_1990_01_01.asc\")\n",
    "\n",
    "barray=baselayer.read(1) * 0\n",
    "\n",
    "proj_raster=rio.open(\"D:/climate_data/rf_grided_mm/rf_mm_bi_01\")\n"
   ]
  },
  {
   "cell_type": "markdown",
   "metadata": {},
   "source": [
    "Aggregating the daily average"
   ]
  },
  {
   "cell_type": "code",
   "execution_count": null,
   "metadata": {},
   "outputs": [],
   "source": [
    "for i in range(0,366):\n",
    "    \n",
    "    baselayer=rio.open(path+\"Tmin_All_Islands_1990_01_01.asc\")\n",
    "    barray=baselayer.read(1)*0 \n",
    "    \n",
    "    n=0\n",
    "    for j in range(1990,2015):\n",
    "        d1 = \"1992_01_01\"\n",
    "        d1 = datetime.datetime.strptime(d1, '%Y_%m_%d')\n",
    "        date=d1+datetime.timedelta(days=i)\n",
    "        dstr = date.strftime( '_%m_%d')\n",
    "        dstr=str(j)+dstr\n",
    "        \n",
    "        try:\n",
    "            raster=rio.open(path+\"Tmin_All_Islands_\" + dstr+\".asc\")\n",
    "            array=raster.read(1)\n",
    "            barray=barray+array\n",
    "            n=n+1\n",
    "        except:\n",
    "            print(\"Error reading: \"+str(i))\n",
    "            print(\"Error reading: \"+str(dstr))\n",
    "            continue\n",
    "        \n",
    "    barray=barray/n\n",
    "    barray=np.where((barray >1000)|(barray < - 1000), np.nan, barray)\n",
    "\n",
    "    print(i)\n",
    "    print(dstr)\n",
    "    \n",
    "    \n",
    "    outfn=pathout+\"TMin_out_\"+dstr+\".tif\"\n",
    "#    with rio.open(outfn, 'w', **metadata) as dst:\n",
    "#        out_raster.write(barray, 1)\n",
    "\n",
    "    out_raster = rio.open(outfn, 'w', driver='GTiff',\n",
    "                height = raster.height, width = raster.width,\n",
    "                count=1, dtype=str(array.dtype),\n",
    "                crs='+proj=latlong',\n",
    "                transform=baselayer.transform)\n",
    "    out_raster.write(barray, 1)\n",
    "    out_raster.close()\n",
    "        "
   ]
  }
 ],
 "metadata": {
  "kernelspec": {
   "display_name": "Python 3",
   "language": "python",
   "name": "python3"
  },
  "language_info": {
   "codemirror_mode": {
    "name": "ipython",
    "version": 3
   },
   "file_extension": ".py",
   "mimetype": "text/x-python",
   "name": "python",
   "nbconvert_exporter": "python",
   "pygments_lexer": "ipython3",
   "version": "3.7.1"
  }
 },
 "nbformat": 4,
 "nbformat_minor": 2
}
