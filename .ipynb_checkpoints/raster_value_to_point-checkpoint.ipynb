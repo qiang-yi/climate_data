{
 "cells": [
  {
   "cell_type": "markdown",
   "metadata": {},
   "source": [
    "# Extrating Raster Values to Points"
   ]
  },
  {
   "cell_type": "code",
   "execution_count": null,
   "metadata": {
    "scrolled": true
   },
   "outputs": [],
   "source": [
    "import rasterio as rio\n",
    "import datetime\n",
    "import numpy as np\n",
    "import geopandas as gpd\n",
    "import pandas as pd\n",
    "\n",
    "from rasterstats import point_query\n",
    "\n",
    "path_rf=\"D:/climate_data/RF_All_Islands_out/\"\n",
    "path_tmax=\"D:/climate_data/Tmax_All_Islands_out/\"\n",
    "path_tmin=\"D:/climate_data/Tmin_All_Islands_out/\"\n",
    "\n",
    "pfn = \"C:/Users/yi/Documents/UH_work/other_work/Soil_Health_App/GIS_data/points.shp\"\n",
    "\n",
    "points = gpd.read_file(\"C:/Users/yi/Documents/UH_work/other_work/Soil_Health_App/GIS_data/points.shp\")\n",
    "points = points[['site_ID']]\n",
    "\n",
    "pd_all = pd.DataFrame()\n",
    "for i in range(0,366):\n",
    "    d = \"2000_01_01\"\n",
    "    d = datetime.datetime.strptime(d, '%Y_%m_%d')\n",
    "    d = d + datetime.timedelta(days=i)\n",
    "    rf_fn = path_rf + \"RF_out_2014\" + d.strftime( '_%m_%d')+\".tif\"\n",
    "    tmax_fn = path_tmax + \"TMax_out_2014\" + d.strftime( '_%m_%d')+\".tif\"\n",
    "    tmin_fn = path_tmin + \"TMin_out_2014\" + d.strftime( '_%m_%d')+\".tif\"\n",
    "    \n",
    "    print(rf_fn)\n",
    "    \n",
    "    #get rainfall raster values\n",
    "    pts = point_query(pfn, rf_fn)\n",
    "    pts = pd.DataFrame(pts,columns=['rainfall'])\n",
    "    outpoints=pd.concat([points, pts], axis=1, ignore_index= False)\n",
    "    \n",
    "    #get t-max values\n",
    "    pts = point_query(pfn, tmax_fn)\n",
    "    pts = pd.DataFrame(pts,columns=['t_max'])\n",
    "    outpoints=pd.concat([outpoints, pts], axis=1, ignore_index= False)\n",
    "    \n",
    "    #get t-min values\n",
    "    pts = point_query(pfn, tmin_fn)\n",
    "    pts = pd.DataFrame(pts,columns=['t_min'])\n",
    "    outpoints=pd.concat([outpoints, pts], axis=1, ignore_index= False)\n",
    "    \n",
    "    \n",
    "    outpoints['date'] = d\n",
    "    \n",
    "    grouped = outpoints.groupby(['site_ID']).mean()\n",
    "    grouped['date']=d\n",
    "    grouped['site_id']=grouped.index.tolist()\n",
    "    grouped=grouped[['site_id','date','rainfall','t_max','t_min']]\n",
    "    \n",
    "    pd_all= pd_all.append(grouped, ignore_index=True)\n",
    "    "
   ]
  },
  {
   "cell_type": "code",
   "execution_count": null,
   "metadata": {},
   "outputs": [],
   "source": [
    "pd_all"
   ]
  },
  {
   "cell_type": "markdown",
   "metadata": {},
   "source": [
    "Write the data to 22 cvs files of the 22 sites."
   ]
  },
  {
   "cell_type": "code",
   "execution_count": null,
   "metadata": {},
   "outputs": [],
   "source": [
    "outpath=\"D:/climate_data/tables/\"\n",
    "for id in pd_all['site_id'].unique():\n",
    "    pd_site=pd_all[pd_all['site_id']==id]\n",
    "    pd_site.to_csv(outpath+'site_'+str(id)+'.csv')"
   ]
  }
 ],
 "metadata": {
  "kernelspec": {
   "display_name": "Python 3",
   "language": "python",
   "name": "python3"
  },
  "language_info": {
   "codemirror_mode": {
    "name": "ipython",
    "version": 3
   },
   "file_extension": ".py",
   "mimetype": "text/x-python",
   "name": "python",
   "nbconvert_exporter": "python",
   "pygments_lexer": "ipython3",
   "version": "3.7.1"
  }
 },
 "nbformat": 4,
 "nbformat_minor": 2
}
