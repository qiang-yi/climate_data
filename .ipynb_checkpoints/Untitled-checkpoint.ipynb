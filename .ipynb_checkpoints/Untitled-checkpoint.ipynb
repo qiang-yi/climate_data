{
 "cells": [
  {
   "cell_type": "code",
   "execution_count": 6,
   "metadata": {},
   "outputs": [],
   "source": [
    "import rasterio as rio\n",
    "import datetime\n",
    "import numpy as np\n",
    "\n",
    "\n",
    "path=\"D:/climate_data/RF_All_Islands/\"\n",
    "\n",
    "pathout=\"D:/climate_data/RF_All_Islands_out/\"\n",
    "\n",
    "\n",
    "baselayer=rio.open(path+\"RF_All_Islands_1990_01_01.asc\")\n",
    "\n",
    "barray=baselayer.read(1) * 0\n",
    "\n",
    "proj_raster=rio.open(\"D:/climate_data/rf_grided_mm/rf_mm_bi_01\")\n"
   ]
  },
  {
   "cell_type": "code",
   "execution_count": 7,
   "metadata": {},
   "outputs": [],
   "source": [
    "metadata = proj_raster.profile"
   ]
  },
  {
   "cell_type": "code",
   "execution_count": 8,
   "metadata": {},
   "outputs": [
    {
     "data": {
      "text/plain": [
       "Affine(0.00225, 0.0, -159.816,\n",
       "       0.0, -0.00225, 22.269)"
      ]
     },
     "execution_count": 8,
     "metadata": {},
     "output_type": "execute_result"
    }
   ],
   "source": [
    "baselayer.transform"
   ]
  },
  {
   "cell_type": "code",
   "execution_count": null,
   "metadata": {},
   "outputs": [
    {
     "name": "stderr",
     "output_type": "stream",
     "text": [
      "C:\\ProgramData\\Anaconda3\\lib\\site-packages\\ipykernel_launcher.py:13: RuntimeWarning: overflow encountered in add\n",
      "  del sys.path[0]\n"
     ]
    },
    {
     "name": "stdout",
     "output_type": "stream",
     "text": [
      "58.101017\n",
      "-inf\n",
      "53.038223\n",
      "-inf\n",
      "37.969574\n",
      "-inf\n",
      "30.426949\n",
      "-inf\n"
     ]
    }
   ],
   "source": [
    "for i in range(0,366):\n",
    "    \n",
    "    baselayer=rio.open(path+\"RF_All_Islands_1990_01_01.asc\")\n",
    "    barray=baselayer.read(1)*0 \n",
    "    \n",
    "    for j in range(1990,2015):\n",
    "        d1=str(j)+\"_01_01\"\n",
    "        d1 = datetime.datetime.strptime(d1, '%Y_%m_%d')\n",
    "        date=d1+datetime.timedelta(days=i)\n",
    "        dstr = date.strftime( '%Y_%m_%d')\n",
    "        raster=rio.open(path+\"RF_All_Islands_\" + dstr+\".asc\")\n",
    "        array=raster.read(1)\n",
    "        barray=barray+array\n",
    "    \n",
    "    barray=barray/25\n",
    "    barray=np.where(barray == np.inf, np.nan, barray)\n",
    "\n",
    "    print(np.max(barray))\n",
    "    print(np.min(barray))\n",
    "    \n",
    "    \n",
    "    outfn=pathout+\"RF_out_\"+dstr+\".tif\"\n",
    "#    with rio.open(outfn, 'w', **metadata) as dst:\n",
    "#        out_raster.write(barray, 1)\n",
    "\n",
    "    out_raster = rio.open(outfn, 'w', driver='GTiff',\n",
    "                height = raster.height, width = raster.width,\n",
    "                count=1, dtype=str(array.dtype),\n",
    "                crs='+proj=latlong',\n",
    "                transform=baselayer.transform)\n",
    "    out_raster.write(barray, 1)\n",
    "    out_raster.close()\n",
    "        "
   ]
  },
  {
   "cell_type": "code",
   "execution_count": 10,
   "metadata": {},
   "outputs": [
    {
     "data": {
      "text/plain": [
       "{'driver': 'AIG', 'dtype': 'float32', 'nodata': -3.4028234663852886e+38, 'width': 700, 'height': 660, 'count': 1, 'crs': CRS({'init': 'epsg:4326'}), 'transform': Affine(0.002249999999999984, 0.0, -156.24300000000002,\n",
       "       0.0, -0.002249999999999999, 20.334000000000124), 'blockxsize': 256, 'blockysize': 16, 'tiled': True}"
      ]
     },
     "execution_count": 10,
     "metadata": {},
     "output_type": "execute_result"
    }
   ],
   "source": [
    "metadata"
   ]
  },
  {
   "cell_type": "code",
   "execution_count": null,
   "metadata": {},
   "outputs": [],
   "source": [
    "from rasterstats import point_query\n",
    "\n",
    "for i in range(1990,2015):\n",
    "    d1=str(i)+\"_01_01\"\n",
    "    d1 = datetime.datetime.strptime(d1, '%Y_%m_%d')\n",
    "    fn=path+\"RF_All_Islands_\" + i+\".asc\"\n",
    "\n",
    "pts = point_query('C:/Users/yi/Documents/UH_work/other_work/Soil_Health_App/GIS_data/points.shp', 'tests/data/slope.tif')"
   ]
  }
 ],
 "metadata": {
  "kernelspec": {
   "display_name": "Python 3",
   "language": "python",
   "name": "python3"
  },
  "language_info": {
   "codemirror_mode": {
    "name": "ipython",
    "version": 3
   },
   "file_extension": ".py",
   "mimetype": "text/x-python",
   "name": "python",
   "nbconvert_exporter": "python",
   "pygments_lexer": "ipython3",
   "version": "3.7.1"
  }
 },
 "nbformat": 4,
 "nbformat_minor": 2
}
